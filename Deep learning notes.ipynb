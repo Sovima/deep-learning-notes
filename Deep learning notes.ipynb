{
 "cells": [
  {
   "cell_type": "markdown",
   "metadata": {},
   "source": [
    "# Deep learning notes"
   ]
  },
  {
   "cell_type": "markdown",
   "metadata": {},
   "source": [
    "## Notes for later"
   ]
  },
  {
   "cell_type": "markdown",
   "metadata": {},
   "source": [
    "- Review backward and forward propagation - done\n",
    "- Look into dot product and its geometrical interpretationss\n",
    "- Look into keras\n",
    "- Check the difference between tensoflow.keras and keras\n",
    "- find an actual dataset\n",
    "- How to split into classes without unintentially ordering them?"
   ]
  },
  {
   "cell_type": "markdown",
   "metadata": {},
   "source": [
    "## Definitions"
   ]
  },
  {
   "cell_type": "markdown",
   "metadata": {},
   "source": [
    "__Supervised learning__ occurs when your deep learning model learns and makes inferences from data that has already been labeled \n",
    "\n",
    "__Unsupervised learning__ occurs when the model learns and makes inferences from unlabeled data \n",
    "\n",
    "__Artificial neural networks__ are deep learning models that are based on the structure of the brain's neural networks. Same as neural net, net, and model\n",
    "\n",
    "An __activation function__ of a neuron defines the output of that neuron given a set of inputs\n",
    "\n",
    "__Relu__ - rectified linear unit ($\\max(0,x)$)\n",
    "\n",
    "__Sigmoid activation function__ - $\\cfrac{1}{1 + e^{-x}}$\n",
    "\n",
    "__Learning__ is about finding the right weights and biases\n",
    "\n",
    "__Cost(loss) function__ - function that maps an event or values of one or more variables onto a real number, representing from \"cost\" associated with the event. We are seeking to minimize the cost function\n",
    "\n",
    "__Gradient descent__ - first-order iterative optimization algorithm for finding a local minimum of a differentiable function\n",
    "\n",
    "__epoch__ - a single pass of data through the model. The data will be passed through multiple epochs.\n",
    "\n",
    "__SGD (Stochastic Gradient Descent)__ - a type of gradient descent. A few samples are selected randomly instead of the whole dataset for each iteration\n",
    "\n",
    "__The loss function__ is what the gradient descent algorithm is trying to minimize. It is the \"distance\"/error from the actual to computer results\n",
    "\n",
    "__Mean Squared Error (MSE)__ - a common loss function. Here, we get the error by taking the difference between the value the model predicted and the correct label. The formula is given by:\n",
    "$$\\cfrac{\\sum e_i^2}{n}$$\n",
    "where $e_i$ is the error on ith category and n is the total number of categories\n",
    "\n",
    "__Learning rate__ - the number we scale the gradient by. Can be thought of as stepsize\n",
    "\n",
    "__Training data__ - used to train the data. The hope is that the data is general enough so we can use it to predict on new data.  \n",
    "\n",
    "__Validation set__ - used to validate our model during training. Helps give information that can assist with adjusting hyper parameters. Prevents overfitting.\n",
    "\n",
    "__Test set__ - used to test the final model obtained from the training and validation sets. It should not be labeled.\n",
    "\n",
    "__Overfitting__ occurs when our model is good at predicting the train data but does not perform well with the test set. That is, the model is unable to generalize well\n",
    "\n",
    "__Data Augmentation__ - the process of creating additional augmented data by reasonably modifying the data in our training set. It allows us to add more data to the training set that's similar to the data we already have but has been reasonably modified. \n",
    "\n",
    "__Dropout__ - the model randomly ignores a subset of nodes in a given layer during training. \n",
    "\n",
    "__Underfitting__ - contrary to overfitting, underfitting occurs when the model is not even able to classify the data it was trained on. This can be concluded from poor performance metrics.\n",
    "__Supervised learning__ - occurs when the data in our training set is labelled\n"
   ]
  },
  {
   "cell_type": "markdown",
   "metadata": {},
   "source": [
    "## General notes"
   ]
  },
  {
   "cell_type": "markdown",
   "metadata": {},
   "source": [
    "Neurons are organized in layers\n",
    "\t- Input layer\n",
    "\t- Hidden layer\n",
    "\t- Output layer\n",
    "Each node is a neuron\n",
    "Each vertical line is a layer\n",
    "The hidden layers are between input and output layers\n",
    "\n",
    "How do you build one?\n",
    "\n",
    "With Keras!!"
   ]
  },
  {
   "cell_type": "code",
   "execution_count": 1,
   "metadata": {},
   "outputs": [],
   "source": [
    "from tensorflow import keras\n",
    "from keras.models import Sequential\n",
    "from keras.layers import Dense, Activation\n",
    "\n",
    "model = Sequential([Dense(32, input_shape = (10, ), activation = \"relu\"), \n",
    "                    Dense(2, activation = \"softmax\")])\n"
   ]
  },
  {
   "cell_type": "code",
   "execution_count": 2,
   "metadata": {},
   "outputs": [
    {
     "data": {
      "text/plain": [
       "0      0\n",
       "1      0\n",
       "2      0\n",
       "3      0\n",
       "4      0\n",
       "      ..\n",
       "137    2\n",
       "138    2\n",
       "139    2\n",
       "140    2\n",
       "141    2\n",
       "Name: target, Length: 142, dtype: int64"
      ]
     },
     "execution_count": 2,
     "metadata": {},
     "output_type": "execute_result"
    }
   ],
   "source": [
    "import sklearn.datasets\n",
    "\n",
    "data = sklearn.datasets.load_wine(as_frame = True)['data']\n",
    "labels = sklearn.datasets.load_wine(as_frame = True)['target'][data.index % 5 != 0].reset_index(drop = True)\n",
    "\n",
    "for i in data.columns:\n",
    "    data[i] = data[i].divide(data[i].max())\n",
    "train = data[data.index % 5 != 0].reset_index(drop = True)\n",
    "test = data[data.index % 5 == 0].reset_index(drop = True)\n",
    "labels"
   ]
  },
  {
   "cell_type": "markdown",
   "metadata": {},
   "source": [
    "Dense is the most basic type of layer. It connects each input to each  output. The first parameter is the number of nodes in the layer.\n",
    "Some commonly used layers:\n",
    "- Dense (or fully connected) - connects each input to each output\n",
    "- Concolutional layers - image data\n",
    "- Pooling layers\n",
    "- Recurrent layers - time series data\n",
    "- Normalization layers\n",
    "- Many others\n",
    "\n",
    "Each connection transfers the output from the previous layer as input to the receiving unit. Each connection has assigned weight. The output is the weighted sum of the inputs. \n",
    "\n",
    "Output - the classification categories\n"
   ]
  },
  {
   "cell_type": "code",
   "execution_count": 3,
   "metadata": {},
   "outputs": [],
   "source": [
    "from tensorflow import keras\n",
    "from keras.models import Sequential \n",
    "from keras.layers import Dense, Activation\n",
    "\n",
    "model = Sequential([ Dense(5, input_shape = (13,), activation = \"relu\"), \n",
    "                   Dense(2, activation = \"softmax\"),\n",
    "                   ])\n",
    "# Note that the input shape for layers past the first one is not required\n",
    "# because "
   ]
  },
  {
   "cell_type": "markdown",
   "metadata": {},
   "source": [
    "After the activation function, the neuron is either fired or not fired. Where 0 if for not firing while 1 is for firing.\n",
    "\n",
    "However, an activation function is not always returning a value between 0 and 1. For example, the most widely used activation function - relu. The main idea is that the more positive neuron, the more active it is. \n",
    "\n",
    "Another way to define a sequential model is"
   ]
  },
  {
   "cell_type": "code",
   "execution_count": 4,
   "metadata": {},
   "outputs": [],
   "source": [
    "model = Sequential()\n",
    "model.add(Dense(5, input_shape = (13, )))\n",
    "model.add(Activation(\"relu\"))\n",
    "# Here, the activation layer is added separately from the Desnse layer.\n",
    "# The process is the same though"
   ]
  },
  {
   "cell_type": "markdown",
   "metadata": {},
   "source": [
    "  The initial bias and weights are randomized. Then, the cost function is defined to tell the computer how far the output is from the expected one. Then, the cost function is optimized. \n",
    " \n",
    " For example, we can have a sum of the squares of differences between the expected and the observed results. \n",
    " \n",
    " !! REMEMBER !!\n",
    " \n",
    " The gradient is pointing in the direction of largest increase. Hence, as we are looking to minimize the cost function, we will be adjusting the parameters in the direction opposite of the gradient. This process is called gradient descent. \n",
    " \n",
    " The value of the gradient is multiplied by the learning rate which is a small number between 0.01 and 0.0001. This is by how much the weights are adjusted with each iteration. When the value is set too high, we are at risk of overshooting. If it's too low, on the other hand, the time to reach the minimum will be much larger.\n",
    " \n",
    " Why use SGD? \n",
    " Using Batch Gradient Descent (the whole dataset is taken), reduces the amount of noise and randomness. However, the problems come up when the datasets are too big. In that case, using all data entries becomes very computationally expensive. Here, the SGD is used: a batch of size 1 is selected for each iteration. The sample is randomly shuffled and selected for the iteration.\n",
    " \n",
    " Since only a single entry is used, the path taken by the algorithm is much noisier. While it usually takes more iterations to reach the minima with SGD, it's still much computationally less expensive compared to batch gradient descent. \n",
    " \n",
    " source: https://www.geeksforgeeks.org/ml-stochastic-gradient-descent-sgd/"
   ]
  },
  {
   "cell_type": "markdown",
   "metadata": {},
   "source": [
    "Example"
   ]
  },
  {
   "cell_type": "code",
   "execution_count": 5,
   "metadata": {},
   "outputs": [],
   "source": [
    "from keras import backend as K\n",
    "from tensorflow.keras.optimizers import Adam\n",
    "from keras.metrics import categorical_crossentropy"
   ]
  },
  {
   "cell_type": "code",
   "execution_count": 6,
   "metadata": {},
   "outputs": [],
   "source": [
    "model = Sequential([\n",
    "    Dense(10, input_shape = (13,), activation = \"relu\"), \n",
    "    Dense(8, activation = \"relu\"),\n",
    "    Dense(3, activation = \"softmax\")\n",
    "])"
   ]
  },
  {
   "cell_type": "code",
   "execution_count": 7,
   "metadata": {},
   "outputs": [],
   "source": [
    "model.compile(Adam(learning_rate = 0.001), \n",
    "              loss = \"sparse_categorical_crossentropy\", \n",
    "              metrics = [\"accuracy\"])\n",
    "#the first parameter is the optimizer. In this case it's Adam,\n",
    "# which is a type of SGD\n",
    "# The second parameter is the learning rate\n",
    "# You can also set the loss by \n",
    "model.loss = \"sparse_categorical_crossentropy\""
   ]
  },
  {
   "cell_type": "code",
   "execution_count": 8,
   "metadata": {},
   "outputs": [
    {
     "name": "stdout",
     "output_type": "stream",
     "text": [
      "Epoch 1/20\n",
      "15/15 - 1s - loss: 1.1349 - accuracy: 0.4014 - 607ms/epoch - 40ms/step\n",
      "Epoch 2/20\n",
      "15/15 - 0s - loss: 1.1086 - accuracy: 0.4014 - 30ms/epoch - 2ms/step\n",
      "Epoch 3/20\n",
      "15/15 - 0s - loss: 1.0741 - accuracy: 0.4014 - 35ms/epoch - 2ms/step\n",
      "Epoch 4/20\n",
      "15/15 - 0s - loss: 1.0385 - accuracy: 0.4014 - 34ms/epoch - 2ms/step\n",
      "Epoch 5/20\n",
      "15/15 - 0s - loss: 1.0032 - accuracy: 0.4085 - 33ms/epoch - 2ms/step\n",
      "Epoch 6/20\n",
      "15/15 - 0s - loss: 0.9746 - accuracy: 0.4225 - 35ms/epoch - 2ms/step\n",
      "Epoch 7/20\n",
      "15/15 - 0s - loss: 0.9534 - accuracy: 0.4225 - 46ms/epoch - 3ms/step\n",
      "Epoch 8/20\n",
      "15/15 - 0s - loss: 0.9383 - accuracy: 0.4155 - 33ms/epoch - 2ms/step\n",
      "Epoch 9/20\n",
      "15/15 - 0s - loss: 0.9280 - accuracy: 0.4225 - 47ms/epoch - 3ms/step\n",
      "Epoch 10/20\n",
      "15/15 - 0s - loss: 0.9106 - accuracy: 0.4225 - 34ms/epoch - 2ms/step\n",
      "Epoch 11/20\n",
      "15/15 - 0s - loss: 0.9010 - accuracy: 0.4155 - 39ms/epoch - 3ms/step\n",
      "Epoch 12/20\n",
      "15/15 - 0s - loss: 0.8886 - accuracy: 0.4155 - 45ms/epoch - 3ms/step\n",
      "Epoch 13/20\n",
      "15/15 - 0s - loss: 0.8781 - accuracy: 0.4507 - 42ms/epoch - 3ms/step\n",
      "Epoch 14/20\n",
      "15/15 - 0s - loss: 0.8670 - accuracy: 0.4930 - 63ms/epoch - 4ms/step\n",
      "Epoch 15/20\n",
      "15/15 - 0s - loss: 0.8566 - accuracy: 0.5070 - 36ms/epoch - 2ms/step\n",
      "Epoch 16/20\n",
      "15/15 - 0s - loss: 0.8457 - accuracy: 0.5704 - 35ms/epoch - 2ms/step\n",
      "Epoch 17/20\n",
      "15/15 - 0s - loss: 0.8371 - accuracy: 0.5986 - 38ms/epoch - 3ms/step\n",
      "Epoch 18/20\n",
      "15/15 - 0s - loss: 0.8260 - accuracy: 0.5704 - 33ms/epoch - 2ms/step\n",
      "Epoch 19/20\n",
      "15/15 - 0s - loss: 0.8168 - accuracy: 0.5775 - 31ms/epoch - 2ms/step\n",
      "Epoch 20/20\n",
      "15/15 - 0s - loss: 0.8070 - accuracy: 0.6197 - 43ms/epoch - 3ms/step\n"
     ]
    },
    {
     "data": {
      "text/plain": [
       "<keras.callbacks.History at 0x7fa69d00a100>"
      ]
     },
     "execution_count": 8,
     "metadata": {},
     "output_type": "execute_result"
    }
   ],
   "source": [
    "model.fit(train, labels, \n",
    "          batch_size = 10, epochs = 20, shuffle = True,\n",
    "         verbose = 2)\n",
    "# This is the function that actually trains the model\n",
    "# The first parameter is the training data\n",
    "# The second parameter contains the labels\n",
    "# Both are in the format of a numpy array\n",
    "# Batch size - how many pieces of data we want \n",
    "# to be sent to the model at once\n",
    "# Epochs - there will be 20 individual passes through the data\n",
    "# Shuffle - the data is shuffled before each epoch\n",
    "\n",
    "# find other data"
   ]
  },
  {
   "cell_type": "markdown",
   "metadata": {},
   "source": [
    "To check or set the learning rate:"
   ]
  },
  {
   "cell_type": "code",
   "execution_count": 9,
   "metadata": {},
   "outputs": [
    {
     "data": {
      "text/plain": [
       "<tf.Variable 'Adam/learning_rate:0' shape=() dtype=float32, numpy=0.001>"
      ]
     },
     "execution_count": 9,
     "metadata": {},
     "output_type": "execute_result"
    }
   ],
   "source": [
    "model.optimizer.lr"
   ]
  },
  {
   "cell_type": "markdown",
   "metadata": {},
   "source": []
  },
  {
   "cell_type": "markdown",
   "metadata": {},
   "source": [
    " For training and testing purposes, the dataset should be broken down into three distinct datasets:\n",
    " - Training set\n",
    " - Validation set\n",
    " - Test set\n",
    " \n",
    " The model is trained on the training set and simultaneously validated with the validation set. The weights are not updated in the validation step. The main goal of the validation set is to make sure the model is not overfitting the data. If the results in the training set are significantly better than in the validation set, the model is likely overfitting.\n",
    " \n",
    " When creating a model with keras, we do not need to specify a validation set. We can set the validation split parameter which will instruct keras to spilt a certain fraction of data and use it as your validation data. \n",
    " \n",
    " Example:"
   ]
  },
  {
   "cell_type": "code",
   "execution_count": 10,
   "metadata": {},
   "outputs": [
    {
     "name": "stdout",
     "output_type": "stream",
     "text": [
      "Epoch 1/20\n",
      "12/12 - 0s - loss: 0.7254 - accuracy: 0.5929 - val_loss: 1.0899 - val_accuracy: 0.6207 - 307ms/epoch - 26ms/step\n",
      "Epoch 2/20\n",
      "12/12 - 0s - loss: 0.7128 - accuracy: 0.5841 - val_loss: 1.1262 - val_accuracy: 0.1724 - 75ms/epoch - 6ms/step\n",
      "Epoch 3/20\n",
      "12/12 - 0s - loss: 0.6983 - accuracy: 0.6283 - val_loss: 1.1209 - val_accuracy: 0.0690 - 53ms/epoch - 4ms/step\n",
      "Epoch 4/20\n",
      "12/12 - 0s - loss: 0.6772 - accuracy: 0.6460 - val_loss: 1.1662 - val_accuracy: 0.0000e+00 - 51ms/epoch - 4ms/step\n",
      "Epoch 5/20\n",
      "12/12 - 0s - loss: 0.6643 - accuracy: 0.6460 - val_loss: 1.1870 - val_accuracy: 0.0000e+00 - 64ms/epoch - 5ms/step\n",
      "Epoch 6/20\n",
      "12/12 - 0s - loss: 0.6491 - accuracy: 0.7434 - val_loss: 1.1859 - val_accuracy: 0.0000e+00 - 59ms/epoch - 5ms/step\n",
      "Epoch 7/20\n",
      "12/12 - 0s - loss: 0.6298 - accuracy: 0.7345 - val_loss: 1.2140 - val_accuracy: 0.0000e+00 - 62ms/epoch - 5ms/step\n",
      "Epoch 8/20\n",
      "12/12 - 0s - loss: 0.6149 - accuracy: 0.7080 - val_loss: 1.2053 - val_accuracy: 0.0000e+00 - 67ms/epoch - 6ms/step\n",
      "Epoch 9/20\n",
      "12/12 - 0s - loss: 0.5959 - accuracy: 0.7965 - val_loss: 1.2358 - val_accuracy: 0.0000e+00 - 62ms/epoch - 5ms/step\n",
      "Epoch 10/20\n",
      "12/12 - 0s - loss: 0.5829 - accuracy: 0.8230 - val_loss: 1.2774 - val_accuracy: 0.0000e+00 - 55ms/epoch - 5ms/step\n",
      "Epoch 11/20\n",
      "12/12 - 0s - loss: 0.5647 - accuracy: 0.7965 - val_loss: 1.2764 - val_accuracy: 0.0000e+00 - 75ms/epoch - 6ms/step\n",
      "Epoch 12/20\n",
      "12/12 - 0s - loss: 0.5541 - accuracy: 0.8496 - val_loss: 1.2974 - val_accuracy: 0.0000e+00 - 56ms/epoch - 5ms/step\n",
      "Epoch 13/20\n",
      "12/12 - 0s - loss: 0.5468 - accuracy: 0.8053 - val_loss: 1.3215 - val_accuracy: 0.0000e+00 - 55ms/epoch - 5ms/step\n",
      "Epoch 14/20\n",
      "12/12 - 0s - loss: 0.5248 - accuracy: 0.8584 - val_loss: 1.3349 - val_accuracy: 0.0000e+00 - 55ms/epoch - 5ms/step\n",
      "Epoch 15/20\n",
      "12/12 - 0s - loss: 0.5130 - accuracy: 0.8761 - val_loss: 1.3711 - val_accuracy: 0.0000e+00 - 75ms/epoch - 6ms/step\n",
      "Epoch 16/20\n",
      "12/12 - 0s - loss: 0.4967 - accuracy: 0.8496 - val_loss: 1.3827 - val_accuracy: 0.0000e+00 - 68ms/epoch - 6ms/step\n",
      "Epoch 17/20\n",
      "12/12 - 0s - loss: 0.4837 - accuracy: 0.8407 - val_loss: 1.3766 - val_accuracy: 0.0000e+00 - 54ms/epoch - 5ms/step\n",
      "Epoch 18/20\n",
      "12/12 - 0s - loss: 0.4720 - accuracy: 0.8761 - val_loss: 1.4010 - val_accuracy: 0.0000e+00 - 63ms/epoch - 5ms/step\n",
      "Epoch 19/20\n",
      "12/12 - 0s - loss: 0.4601 - accuracy: 0.8850 - val_loss: 1.4164 - val_accuracy: 0.0000e+00 - 57ms/epoch - 5ms/step\n",
      "Epoch 20/20\n",
      "12/12 - 0s - loss: 0.4501 - accuracy: 0.8850 - val_loss: 1.4163 - val_accuracy: 0.0000e+00 - 62ms/epoch - 5ms/step\n"
     ]
    },
    {
     "data": {
      "text/plain": [
       "<keras.callbacks.History at 0x7fa69e4ee310>"
      ]
     },
     "execution_count": 10,
     "metadata": {},
     "output_type": "execute_result"
    }
   ],
   "source": [
    "model.fit(train, labels, \n",
    "          validation_split = 0.2, batch_size = 10, \n",
    "          epochs = 20, shuffle = True, verbose = 2)"
   ]
  },
  {
   "cell_type": "markdown",
   "metadata": {},
   "source": [
    "When adding validation set, we will also get preformance metrics for validation data"
   ]
  },
  {
   "cell_type": "markdown",
   "metadata": {},
   "source": [
    "The validation set can also be created explicitly using validation_data parameter.\n",
    "For example:"
   ]
  },
  {
   "cell_type": "code",
   "execution_count": 11,
   "metadata": {},
   "outputs": [
    {
     "name": "stdout",
     "output_type": "stream",
     "text": [
      "Epoch 1/20\n",
      "12/12 - 0s - loss: 0.6332 - accuracy: 0.7080 - val_loss: 0.6133 - val_accuracy: 0.6897 - 94ms/epoch - 8ms/step\n",
      "Epoch 2/20\n",
      "12/12 - 0s - loss: 0.6065 - accuracy: 0.7080 - val_loss: 0.5800 - val_accuracy: 0.6897 - 59ms/epoch - 5ms/step\n",
      "Epoch 3/20\n",
      "12/12 - 0s - loss: 0.5790 - accuracy: 0.7434 - val_loss: 0.5613 - val_accuracy: 0.7586 - 57ms/epoch - 5ms/step\n",
      "Epoch 4/20\n",
      "12/12 - 0s - loss: 0.5578 - accuracy: 0.8496 - val_loss: 0.5261 - val_accuracy: 0.8276 - 62ms/epoch - 5ms/step\n",
      "Epoch 5/20\n",
      "12/12 - 0s - loss: 0.5241 - accuracy: 0.8761 - val_loss: 0.4834 - val_accuracy: 0.8966 - 63ms/epoch - 5ms/step\n",
      "Epoch 6/20\n",
      "12/12 - 0s - loss: 0.4877 - accuracy: 0.8761 - val_loss: 0.4502 - val_accuracy: 0.9310 - 53ms/epoch - 4ms/step\n",
      "Epoch 7/20\n",
      "12/12 - 0s - loss: 0.4657 - accuracy: 0.9115 - val_loss: 0.4283 - val_accuracy: 0.9655 - 104ms/epoch - 9ms/step\n",
      "Epoch 8/20\n",
      "12/12 - 0s - loss: 0.4450 - accuracy: 0.9204 - val_loss: 0.4079 - val_accuracy: 0.9655 - 78ms/epoch - 7ms/step\n",
      "Epoch 9/20\n",
      "12/12 - 0s - loss: 0.4231 - accuracy: 0.9292 - val_loss: 0.3850 - val_accuracy: 0.9655 - 104ms/epoch - 9ms/step\n",
      "Epoch 10/20\n",
      "12/12 - 0s - loss: 0.4059 - accuracy: 0.9469 - val_loss: 0.3668 - val_accuracy: 0.9655 - 95ms/epoch - 8ms/step\n",
      "Epoch 11/20\n",
      "12/12 - 0s - loss: 0.3887 - accuracy: 0.9381 - val_loss: 0.3524 - val_accuracy: 0.9655 - 64ms/epoch - 5ms/step\n",
      "Epoch 12/20\n",
      "12/12 - 0s - loss: 0.3709 - accuracy: 0.9558 - val_loss: 0.3314 - val_accuracy: 0.9655 - 78ms/epoch - 6ms/step\n",
      "Epoch 13/20\n",
      "12/12 - 0s - loss: 0.3561 - accuracy: 0.9558 - val_loss: 0.3214 - val_accuracy: 0.9655 - 57ms/epoch - 5ms/step\n",
      "Epoch 14/20\n",
      "12/12 - 0s - loss: 0.3403 - accuracy: 0.9646 - val_loss: 0.3016 - val_accuracy: 0.9655 - 69ms/epoch - 6ms/step\n",
      "Epoch 15/20\n",
      "12/12 - 0s - loss: 0.3285 - accuracy: 0.9646 - val_loss: 0.2882 - val_accuracy: 0.9655 - 63ms/epoch - 5ms/step\n",
      "Epoch 16/20\n",
      "12/12 - 0s - loss: 0.3155 - accuracy: 0.9646 - val_loss: 0.2805 - val_accuracy: 0.9655 - 91ms/epoch - 8ms/step\n",
      "Epoch 17/20\n",
      "12/12 - 0s - loss: 0.2997 - accuracy: 0.9646 - val_loss: 0.2620 - val_accuracy: 0.9655 - 72ms/epoch - 6ms/step\n",
      "Epoch 18/20\n",
      "12/12 - 0s - loss: 0.2898 - accuracy: 0.9823 - val_loss: 0.2488 - val_accuracy: 0.9655 - 55ms/epoch - 5ms/step\n",
      "Epoch 19/20\n",
      "12/12 - 0s - loss: 0.2782 - accuracy: 0.9735 - val_loss: 0.2376 - val_accuracy: 0.9655 - 60ms/epoch - 5ms/step\n",
      "Epoch 20/20\n",
      "12/12 - 0s - loss: 0.2669 - accuracy: 0.9823 - val_loss: 0.2302 - val_accuracy: 0.9655 - 59ms/epoch - 5ms/step\n"
     ]
    },
    {
     "data": {
      "text/plain": [
       "<keras.callbacks.History at 0x7fa69e4ee250>"
      ]
     },
     "execution_count": 11,
     "metadata": {},
     "output_type": "execute_result"
    }
   ],
   "source": [
    "\n",
    "valid_set = train[train.index % 5 == 0]\n",
    "valid_set_labels = labels[labels.index % 5 == 0]\n",
    "train2 = train[train.index % 5 != 0]\n",
    "labels2 = labels[labels.index % 5 != 0]\n",
    "model.fit(train2, labels2,\n",
    "          validation_data = (valid_set, valid_set_labels), batch_size = 10, \n",
    "          epochs = 20, shuffle = True, verbose = 2)"
   ]
  },
  {
   "cell_type": "markdown",
   "metadata": {},
   "source": [
    "The test set would be structured the same way the training set is but without the labels. We will be using that set when we cann the predict function on our model. \n",
    "\n",
    "We need to make sure our training and validation sets are a good representitive of actual data. \n",
    "\n",
    "To predict with keras:"
   ]
  },
  {
   "cell_type": "code",
   "execution_count": 12,
   "metadata": {},
   "outputs": [
    {
     "data": {
      "text/plain": [
       "array([[0.7807086 , 0.20486839, 0.01442301],\n",
       "       [0.8277968 , 0.11050788, 0.06169536],\n",
       "       [0.87960285, 0.09136207, 0.0290351 ],\n",
       "       [0.78529364, 0.12874745, 0.08595892],\n",
       "       [0.5567724 , 0.4309179 , 0.01230966],\n",
       "       [0.16780964, 0.8203762 , 0.01181411],\n",
       "       [0.8066649 , 0.15827477, 0.03506036],\n",
       "       [0.6387948 , 0.33984548, 0.02135978],\n",
       "       [0.59453076, 0.3855384 , 0.01993078],\n",
       "       [0.74328834, 0.1448611 , 0.11185062],\n",
       "       [0.84191376, 0.12290147, 0.03518478],\n",
       "       [0.7858587 , 0.1667813 , 0.04736002],\n",
       "       [0.04817569, 0.8207244 , 0.13109982],\n",
       "       [0.2149922 , 0.7643217 , 0.02068616],\n",
       "       [0.1353963 , 0.65482634, 0.2097774 ],\n",
       "       [0.09356305, 0.8629629 , 0.04347405],\n",
       "       [0.03053261, 0.96664786, 0.00281949],\n",
       "       [0.04586121, 0.9500508 , 0.00408803],\n",
       "       [0.02661296, 0.95694745, 0.0164396 ],\n",
       "       [0.12086413, 0.87160635, 0.00752953],\n",
       "       [0.28723136, 0.6907639 , 0.02200466],\n",
       "       [0.01313046, 0.9778219 , 0.00904753],\n",
       "       [0.23294146, 0.75189495, 0.01516354],\n",
       "       [0.01082007, 0.98773474, 0.00144523],\n",
       "       [0.30332285, 0.6826725 , 0.01400457],\n",
       "       [0.07453155, 0.919306  , 0.00616245],\n",
       "       [0.20441684, 0.51536363, 0.28021953],\n",
       "       [0.04309413, 0.17420621, 0.78269964],\n",
       "       [0.06680442, 0.4123878 , 0.52080774],\n",
       "       [0.09000128, 0.22036129, 0.6896375 ],\n",
       "       [0.1339184 , 0.17491156, 0.69117   ],\n",
       "       [0.03562304, 0.10339483, 0.8609821 ],\n",
       "       [0.06009115, 0.13088547, 0.8090234 ],\n",
       "       [0.03776114, 0.18549414, 0.77674466],\n",
       "       [0.07581314, 0.23675092, 0.6874359 ],\n",
       "       [0.03708888, 0.10528937, 0.8576218 ]], dtype=float32)"
      ]
     },
     "execution_count": 12,
     "metadata": {},
     "output_type": "execute_result"
    }
   ],
   "source": [
    "predictions = model.predict(test, \n",
    "                            batch_size = 10, verbose = 0)\n",
    "# First is the variable holding the test data\n",
    "predictions"
   ]
  },
  {
   "cell_type": "markdown",
   "metadata": {},
   "source": [
    "To know that the model is overfitting: \n",
    "- If the validation metrics are considerably worse than the training metrics than that's an indication of overfitting\n",
    "- The metrics are good during training but accuracy is low on test data\n",
    "\n",
    "Some ways to aviod overfitting:\n",
    "- Add more data. The more data, higher diversity\n",
    "- Data augmentation\n",
    "- Reduce complexity of the model. This can be done by making simple changes such as removing layers from the model or reducing the number of neurons in the layers.\n",
    "- Dropout"
   ]
  },
  {
   "cell_type": "markdown",
   "metadata": {},
   "source": [
    "On the other hand, to know that a model is underfitting, \n",
    "- We will see poor performance metrics during the training process\n",
    "\n",
    "To avoid underfitting:\n",
    "- Increase the complexity of our model. Sometimes, the model may not be sophisticated enough to accurately classify individual components of the image. This can be done by, for example, increasing the number of layers, number of neurons, or changing the type of layers in the model.\n",
    "- Add more features to the input samples in our training set\n",
    "- Reduce dropout\n",
    "\n",
    "\n"
   ]
  },
  {
   "cell_type": "markdown",
   "metadata": {},
   "source": [
    "In supervised learning, the difference between the prediceted value and the actual label is calculated to determine the cost function minimizing parameters."
   ]
  },
  {
   "cell_type": "code",
   "execution_count": null,
   "metadata": {},
   "outputs": [],
   "source": []
  }
 ],
 "metadata": {
  "kernelspec": {
   "display_name": "Python 3",
   "language": "python",
   "name": "python3"
  },
  "language_info": {
   "codemirror_mode": {
    "name": "ipython",
    "version": 3
   },
   "file_extension": ".py",
   "mimetype": "text/x-python",
   "name": "python",
   "nbconvert_exporter": "python",
   "pygments_lexer": "ipython3",
   "version": "3.8.5"
  }
 },
 "nbformat": 4,
 "nbformat_minor": 4
}
