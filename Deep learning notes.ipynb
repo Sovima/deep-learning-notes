{
 "cells": [
  {
   "cell_type": "markdown",
   "metadata": {},
   "source": [
    "# Deep learning notes"
   ]
  },
  {
   "cell_type": "markdown",
   "metadata": {},
   "source": [
    "## Notes for later"
   ]
  },
  {
   "cell_type": "markdown",
   "metadata": {},
   "source": [
    "- Review backward and forward propagation - done\n",
    "- Look into dot product and its geometrical interpretationss\n",
    "- Look into keras\n",
    "- Check the difference between tensoflow.keras and keras\n",
    "- find an actual dataset\n",
    "- How to split into classes without unintentially ordering them?"
   ]
  },
  {
   "cell_type": "markdown",
   "metadata": {},
   "source": [
    "## Definitions"
   ]
  },
  {
   "cell_type": "markdown",
   "metadata": {},
   "source": [
    "__Supervised learning__ occurs when your deep learning model learns and makes inferences from data that has already been labeled \n",
    "\n",
    "__Unsupervised learning__ occurs when the model learns and makes inferences from unlabeled data \n",
    "\n",
    "__Artificial neural networks__ are deep learning models that are based on the structure of the brain's neural networks. Same as neural net, net, and model\n",
    "\n",
    "An __activation function__ of a neuron defines the output of that neuron given a set of inputs\n",
    "\n",
    "__Relu__ - rectified linear unit ($\\max(0,x)$)\n",
    "\n",
    "__Sigmoid activation function__ - $\\cfrac{1}{1 + e^{-x}}$\n",
    "\n",
    "__Learning__ is about finding the right weights and biases\n",
    "\n",
    "__Cost(loss) function__ - function that maps an event or values of one or more variables onto a real number, representing from \"cost\" associated with the event. We are seeking to minimize the cost function\n",
    "\n",
    "__Gradient descent__ - first-order iterative optimization algorithm for finding a local minimum of a differentiable function\n",
    "\n",
    "__epoch__ - a single pass of data through the model. The data will be passed through multiple epochs.\n",
    "\n",
    "__SGD (Stochastic Gradient Descent)__ - a type of gradient descent. A few samples are selected randomly instead of the whole dataset for each iteration\n",
    "\n",
    "__The loss function__ is what the gradient descent algorithm is trying to minimize. It is the \"distance\"/error from the actual to computer results\n",
    "\n",
    "__Mean Squared Error (MSE)__ - a common loss function. Here, we get the error by taking the difference between the value the model predicted and the correct label. The formula is given by:\n",
    "$$\\cfrac{\\sum e_i^2}{n}$$\n",
    "where $e_i$ is the error on ith category and n is the total number of categories\n",
    "\n",
    "__Learning rate__ - the number we scale the gradient by. Can be thought of as stepsize\n",
    "\n",
    "__Training data__ - used to train the data. The hope is that the data is general enough so we can use it to predict on new data.  \n",
    "\n",
    "__Validation set__ - used to validate our model during training. Helps give information that can assist with adjusting hyper parameters. Prevents overfitting.\n",
    "\n",
    "__Test set__ - used to test the final model obtained from the training and validation sets. It should not be labeled.\n",
    "\n",
    "__Overfitting__ occurs when our model is good at predicting the train data but does not perform well with the test set. That is, the model is unable to generalize well\n",
    "\n",
    "__Data Augmentation__ - the process of creating additional augmented data by reasonably modifying the data in our training set. It allows us to add more data to the training set that's similar to the data we already have but has been reasonably modified. \n",
    "\n",
    "__Dropout__ - the model randomly ignores a subset of nodes in a given layer during training. \n"
   ]
  },
  {
   "cell_type": "markdown",
   "metadata": {},
   "source": [
    "## General notes"
   ]
  },
  {
   "cell_type": "markdown",
   "metadata": {},
   "source": [
    "Neurons are organized in layers\n",
    "\t- Input layer\n",
    "\t- Hidden layer\n",
    "\t- Output layer\n",
    "Each node is a neuron\n",
    "Each vertical line is a layer\n",
    "The hidden layers are between input and output layers\n",
    "\n",
    "How do you build one?\n",
    "\n",
    "With Keras!!"
   ]
  },
  {
   "cell_type": "code",
   "execution_count": 19,
   "metadata": {},
   "outputs": [],
   "source": [
    "from tensorflow import keras\n",
    "from keras.models import Sequential\n",
    "from keras.layers import Dense, Activation\n",
    "\n",
    "model = Sequential([Dense(32, input_shape = (10, ), activation = \"relu\"), \n",
    "                    Dense(2, activation = \"softmax\")])\n"
   ]
  },
  {
   "cell_type": "code",
   "execution_count": 20,
   "metadata": {},
   "outputs": [
    {
     "data": {
      "text/html": [
       "<div>\n",
       "<style scoped>\n",
       "    .dataframe tbody tr th:only-of-type {\n",
       "        vertical-align: middle;\n",
       "    }\n",
       "\n",
       "    .dataframe tbody tr th {\n",
       "        vertical-align: top;\n",
       "    }\n",
       "\n",
       "    .dataframe thead th {\n",
       "        text-align: right;\n",
       "    }\n",
       "</style>\n",
       "<table border=\"1\" class=\"dataframe\">\n",
       "  <thead>\n",
       "    <tr style=\"text-align: right;\">\n",
       "      <th></th>\n",
       "      <th>alcohol</th>\n",
       "      <th>malic_acid</th>\n",
       "      <th>ash</th>\n",
       "      <th>alcalinity_of_ash</th>\n",
       "      <th>magnesium</th>\n",
       "      <th>total_phenols</th>\n",
       "      <th>flavanoids</th>\n",
       "      <th>nonflavanoid_phenols</th>\n",
       "      <th>proanthocyanins</th>\n",
       "      <th>color_intensity</th>\n",
       "      <th>hue</th>\n",
       "      <th>od280/od315_of_diluted_wines</th>\n",
       "      <th>proline</th>\n",
       "    </tr>\n",
       "  </thead>\n",
       "  <tbody>\n",
       "    <tr>\n",
       "      <th>150</th>\n",
       "      <td>0.910317</td>\n",
       "      <td>0.537931</td>\n",
       "      <td>0.811146</td>\n",
       "      <td>0.800000</td>\n",
       "      <td>0.759259</td>\n",
       "      <td>0.360825</td>\n",
       "      <td>0.309055</td>\n",
       "      <td>0.333333</td>\n",
       "      <td>0.349162</td>\n",
       "      <td>0.661538</td>\n",
       "      <td>0.345029</td>\n",
       "      <td>0.3250</td>\n",
       "      <td>0.297619</td>\n",
       "    </tr>\n",
       "    <tr>\n",
       "      <th>151</th>\n",
       "      <td>0.862441</td>\n",
       "      <td>0.460345</td>\n",
       "      <td>0.767802</td>\n",
       "      <td>0.733333</td>\n",
       "      <td>0.691358</td>\n",
       "      <td>0.381443</td>\n",
       "      <td>0.267717</td>\n",
       "      <td>0.363636</td>\n",
       "      <td>0.351955</td>\n",
       "      <td>0.830769</td>\n",
       "      <td>0.280702</td>\n",
       "      <td>0.3675</td>\n",
       "      <td>0.285714</td>\n",
       "    </tr>\n",
       "    <tr>\n",
       "      <th>152</th>\n",
       "      <td>0.884019</td>\n",
       "      <td>0.327586</td>\n",
       "      <td>0.851393</td>\n",
       "      <td>0.850000</td>\n",
       "      <td>0.716049</td>\n",
       "      <td>0.567010</td>\n",
       "      <td>0.251969</td>\n",
       "      <td>0.393939</td>\n",
       "      <td>0.435754</td>\n",
       "      <td>0.546154</td>\n",
       "      <td>0.356725</td>\n",
       "      <td>0.3325</td>\n",
       "      <td>0.252976</td>\n",
       "    </tr>\n",
       "    <tr>\n",
       "      <th>153</th>\n",
       "      <td>0.892111</td>\n",
       "      <td>0.568966</td>\n",
       "      <td>0.705882</td>\n",
       "      <td>0.616667</td>\n",
       "      <td>0.604938</td>\n",
       "      <td>0.463918</td>\n",
       "      <td>0.163386</td>\n",
       "      <td>0.924242</td>\n",
       "      <td>0.522346</td>\n",
       "      <td>0.809231</td>\n",
       "      <td>0.327485</td>\n",
       "      <td>0.3775</td>\n",
       "      <td>0.401786</td>\n",
       "    </tr>\n",
       "    <tr>\n",
       "      <th>154</th>\n",
       "      <td>0.848281</td>\n",
       "      <td>0.222414</td>\n",
       "      <td>0.650155</td>\n",
       "      <td>0.666667</td>\n",
       "      <td>0.635802</td>\n",
       "      <td>0.381443</td>\n",
       "      <td>0.114173</td>\n",
       "      <td>0.803030</td>\n",
       "      <td>0.391061</td>\n",
       "      <td>0.584615</td>\n",
       "      <td>0.339181</td>\n",
       "      <td>0.3875</td>\n",
       "      <td>0.380952</td>\n",
       "    </tr>\n",
       "  </tbody>\n",
       "</table>\n",
       "</div>"
      ],
      "text/plain": [
       "      alcohol  malic_acid       ash  alcalinity_of_ash  magnesium  \\\n",
       "150  0.910317    0.537931  0.811146           0.800000   0.759259   \n",
       "151  0.862441    0.460345  0.767802           0.733333   0.691358   \n",
       "152  0.884019    0.327586  0.851393           0.850000   0.716049   \n",
       "153  0.892111    0.568966  0.705882           0.616667   0.604938   \n",
       "154  0.848281    0.222414  0.650155           0.666667   0.635802   \n",
       "\n",
       "     total_phenols  flavanoids  nonflavanoid_phenols  proanthocyanins  \\\n",
       "150       0.360825    0.309055              0.333333         0.349162   \n",
       "151       0.381443    0.267717              0.363636         0.351955   \n",
       "152       0.567010    0.251969              0.393939         0.435754   \n",
       "153       0.463918    0.163386              0.924242         0.522346   \n",
       "154       0.381443    0.114173              0.803030         0.391061   \n",
       "\n",
       "     color_intensity       hue  od280/od315_of_diluted_wines   proline  \n",
       "150         0.661538  0.345029                        0.3250  0.297619  \n",
       "151         0.830769  0.280702                        0.3675  0.285714  \n",
       "152         0.546154  0.356725                        0.3325  0.252976  \n",
       "153         0.809231  0.327485                        0.3775  0.401786  \n",
       "154         0.584615  0.339181                        0.3875  0.380952  "
      ]
     },
     "execution_count": 20,
     "metadata": {},
     "output_type": "execute_result"
    }
   ],
   "source": [
    "import sklearn.datasets\n",
    "\n",
    "data = sklearn.datasets.load_wine(as_frame = True)['data']\n",
    "labels = sklearn.datasets.load_wine(as_frame = True)['target'][:150]\n",
    "\n",
    "for i in train.columns:\n",
    "    data[i] = data[i].divide(data[i].max())\n",
    "train = data[:150]\n",
    "test = data[150:]\n",
    "test.head()"
   ]
  },
  {
   "cell_type": "markdown",
   "metadata": {},
   "source": [
    "Dense is the most basic type of layer. It connects each input to each  output. The first parameter is the number of nodes in the layer.\n",
    "Some commonly used layers:\n",
    "- Dense (or fully connected) - connects each input to each output\n",
    "- Concolutional layers - image data\n",
    "- Pooling layers\n",
    "- Recurrent layers - time series data\n",
    "- Normalization layers\n",
    "- Many others\n",
    "\n",
    "Each connection transfers the output from the previous layer as input to the receiving unit. Each connection has assigned weight. The output is the weighted sum of the inputs. \n",
    "\n",
    "Output - the classification categories\n"
   ]
  },
  {
   "cell_type": "code",
   "execution_count": 29,
   "metadata": {},
   "outputs": [],
   "source": [
    "from tensorflow import keras\n",
    "from keras.models import Sequential \n",
    "from keras.layers import Dense, Activation\n",
    "\n",
    "model = Sequential([ Dense(5, input_shape = (13,), activation = \"relu\"), \n",
    "                   Dense(2, activation = \"softmax\"),\n",
    "                   ])\n",
    "# Note that the input shape for layers past the first one is not required\n",
    "# because "
   ]
  },
  {
   "cell_type": "markdown",
   "metadata": {},
   "source": [
    "After the activation function, the neuron is either fired or not fired. Where 0 if for not firing while 1 is for firing.\n",
    "\n",
    "However, an activation function is not always returning a value between 0 and 1. For example, the most widely used activation function - relu. The main idea is that the more positive neuron, the more active it is. \n",
    "\n",
    "Another way to define a sequential model is"
   ]
  },
  {
   "cell_type": "code",
   "execution_count": 30,
   "metadata": {},
   "outputs": [],
   "source": [
    "model = Sequential()\n",
    "model.add(Dense(5, input_shape = (13, )))\n",
    "model.add(Activation(\"relu\"))\n",
    "# Here, the activation layer is added separately from the Desnse layer.\n",
    "# The process is the same though"
   ]
  },
  {
   "cell_type": "markdown",
   "metadata": {},
   "source": [
    "  The initial bias and weights are randomized. Then, the cost function is defined to tell the computer how far the output is from the expected one. Then, the cost function is optimized. \n",
    " \n",
    " For example, we can have a sum of the squares of differences between the expected and the observed results. \n",
    " \n",
    " !! REMEMBER !!\n",
    " \n",
    " The gradient is pointing in the direction of largest increase. Hence, as we are looking to minimize the cost function, we will be adjusting the parameters in the direction opposite of the gradient. This process is called gradient descent. \n",
    " \n",
    " The value of the gradient is multiplied by the learning rate which is a small number between 0.01 and 0.0001. This is by how much the weights are adjusted with each iteration. When the value is set too high, we are at risk of overshooting. If it's too low, on the other hand, the time to reach the minimum will be much larger.\n",
    " \n",
    " Why use SGD? \n",
    " Using Batch Gradient Descent (the whole dataset is taken), reduces the amount of noise and randomness. However, the problems come up when the datasets are too big. In that case, using all data entries becomes very computationally expensive. Here, the SGD is used: a batch of size 1 is selected for each iteration. The sample is randomly shuffled and selected for the iteration.\n",
    " \n",
    " Since only a single entry is used, the path taken by the algorithm is much noisier. While it usually takes more iterations to reach the minima with SGD, it's still much computationally less expensive compared to batch gradient descent. \n",
    " \n",
    " source: https://www.geeksforgeeks.org/ml-stochastic-gradient-descent-sgd/"
   ]
  },
  {
   "cell_type": "markdown",
   "metadata": {},
   "source": [
    "Example"
   ]
  },
  {
   "cell_type": "code",
   "execution_count": 36,
   "metadata": {},
   "outputs": [],
   "source": [
    "from keras import backend as K\n",
    "from tensorflow.keras.optimizers import Adam\n",
    "from keras.metrics import categorical_crossentropy"
   ]
  },
  {
   "cell_type": "code",
   "execution_count": 55,
   "metadata": {},
   "outputs": [],
   "source": [
    "model = Sequential([\n",
    "    Dense(10, input_shape = (13,), activation = \"relu\"), \n",
    "    Dense(8, activation = \"relu\"),\n",
    "    Dense(3, activation = \"softmax\")\n",
    "])"
   ]
  },
  {
   "cell_type": "code",
   "execution_count": 56,
   "metadata": {},
   "outputs": [],
   "source": [
    "model.compile(Adam(learning_rate = 0.001), \n",
    "              loss = \"sparse_categorical_crossentropy\", \n",
    "              metrics = [\"accuracy\"])\n",
    "#the first parameter is the optimizer. In this case it's Adam,\n",
    "# which is a type of SGD\n",
    "# The second parameter is the learning rate\n",
    "# You can also set the loss by \n",
    "model.loss = \"sparse_categorical_crossentropy\""
   ]
  },
  {
   "cell_type": "code",
   "execution_count": 57,
   "metadata": {},
   "outputs": [
    {
     "name": "stdout",
     "output_type": "stream",
     "text": [
      "Epoch 1/20\n",
      "15/15 - 1s - loss: 1.1803 - accuracy: 0.1333 - 518ms/epoch - 35ms/step\n",
      "Epoch 2/20\n",
      "15/15 - 0s - loss: 1.1034 - accuracy: 0.4000 - 34ms/epoch - 2ms/step\n",
      "Epoch 3/20\n",
      "15/15 - 0s - loss: 1.0786 - accuracy: 0.5200 - 46ms/epoch - 3ms/step\n",
      "Epoch 4/20\n",
      "15/15 - 0s - loss: 1.0673 - accuracy: 0.5133 - 29ms/epoch - 2ms/step\n",
      "Epoch 5/20\n",
      "15/15 - 0s - loss: 1.0564 - accuracy: 0.5467 - 34ms/epoch - 2ms/step\n",
      "Epoch 6/20\n",
      "15/15 - 0s - loss: 1.0447 - accuracy: 0.6267 - 45ms/epoch - 3ms/step\n",
      "Epoch 7/20\n",
      "15/15 - 0s - loss: 1.0337 - accuracy: 0.7200 - 41ms/epoch - 3ms/step\n",
      "Epoch 8/20\n",
      "15/15 - 0s - loss: 1.0235 - accuracy: 0.7333 - 45ms/epoch - 3ms/step\n",
      "Epoch 9/20\n",
      "15/15 - 0s - loss: 1.0135 - accuracy: 0.7533 - 56ms/epoch - 4ms/step\n",
      "Epoch 10/20\n",
      "15/15 - 0s - loss: 1.0033 - accuracy: 0.7800 - 49ms/epoch - 3ms/step\n",
      "Epoch 11/20\n",
      "15/15 - 0s - loss: 0.9922 - accuracy: 0.7867 - 30ms/epoch - 2ms/step\n",
      "Epoch 12/20\n",
      "15/15 - 0s - loss: 0.9803 - accuracy: 0.8067 - 40ms/epoch - 3ms/step\n",
      "Epoch 13/20\n",
      "15/15 - 0s - loss: 0.9680 - accuracy: 0.8067 - 45ms/epoch - 3ms/step\n",
      "Epoch 14/20\n",
      "15/15 - 0s - loss: 0.9542 - accuracy: 0.8067 - 49ms/epoch - 3ms/step\n",
      "Epoch 15/20\n",
      "15/15 - 0s - loss: 0.9391 - accuracy: 0.8133 - 41ms/epoch - 3ms/step\n",
      "Epoch 16/20\n",
      "15/15 - 0s - loss: 0.9241 - accuracy: 0.8133 - 47ms/epoch - 3ms/step\n",
      "Epoch 17/20\n",
      "15/15 - 0s - loss: 0.9066 - accuracy: 0.8133 - 48ms/epoch - 3ms/step\n",
      "Epoch 18/20\n",
      "15/15 - 0s - loss: 0.8896 - accuracy: 0.8067 - 143ms/epoch - 10ms/step\n",
      "Epoch 19/20\n",
      "15/15 - 0s - loss: 0.8708 - accuracy: 0.8067 - 41ms/epoch - 3ms/step\n",
      "Epoch 20/20\n",
      "15/15 - 0s - loss: 0.8515 - accuracy: 0.8133 - 44ms/epoch - 3ms/step\n"
     ]
    },
    {
     "data": {
      "text/plain": [
       "<keras.callbacks.History at 0x7f8c2d05fe20>"
      ]
     },
     "execution_count": 57,
     "metadata": {},
     "output_type": "execute_result"
    }
   ],
   "source": [
    "model.fit(train, labels, \n",
    "          batch_size = 10, epochs = 20, shuffle = True,\n",
    "         verbose = 2)\n",
    "# This is the function that actually trains the model\n",
    "# The first parameter is the training data\n",
    "# The second parameter contains the labels\n",
    "# Both are in the format of a numpy array\n",
    "# Batch size - how many pieces of data we want \n",
    "# to be sent to the model at once\n",
    "# Epochs - there will be 20 individual passes through the data\n",
    "# Shuffle - the data is shuffled before each epoch\n",
    "\n",
    "# find other data"
   ]
  },
  {
   "cell_type": "markdown",
   "metadata": {},
   "source": [
    "To check or set the learning rate:"
   ]
  },
  {
   "cell_type": "code",
   "execution_count": 58,
   "metadata": {},
   "outputs": [
    {
     "data": {
      "text/plain": [
       "<tf.Variable 'Adam/learning_rate:0' shape=() dtype=float32, numpy=0.001>"
      ]
     },
     "execution_count": 58,
     "metadata": {},
     "output_type": "execute_result"
    }
   ],
   "source": [
    "model.optimizer.lr"
   ]
  },
  {
   "cell_type": "markdown",
   "metadata": {},
   "source": []
  },
  {
   "cell_type": "markdown",
   "metadata": {},
   "source": [
    " For training and testing purposes, the dataset should be broken down into three distinct datasets:\n",
    " - Training set\n",
    " - Validation set\n",
    " - Test set\n",
    " \n",
    " The model is trained on the training set and simultaneously validated with the validation set. The weights are not updated in the validation step. The main goal of the validation set is to make sure the model is not overfitting the data. If the results in the training set are significantly better than in the validation set, the model is likely overfitting.\n",
    " \n",
    " When creating a model with keras, we do not need to specify a validation set. We can set the validation split parameter which will instruct keras to spilt a certain fraction of data and use it as your validation data. \n",
    " \n",
    " Example:"
   ]
  },
  {
   "cell_type": "code",
   "execution_count": 59,
   "metadata": {},
   "outputs": [
    {
     "name": "stdout",
     "output_type": "stream",
     "text": [
      "Epoch 1/20\n",
      "12/12 - 0s - loss: 0.7794 - accuracy: 0.9333 - val_loss: 1.0791 - val_accuracy: 0.2667 - 195ms/epoch - 16ms/step\n",
      "Epoch 2/20\n",
      "12/12 - 0s - loss: 0.7506 - accuracy: 0.9083 - val_loss: 1.1317 - val_accuracy: 0.2333 - 53ms/epoch - 4ms/step\n",
      "Epoch 3/20\n",
      "12/12 - 0s - loss: 0.7234 - accuracy: 0.9000 - val_loss: 1.1508 - val_accuracy: 0.2333 - 55ms/epoch - 5ms/step\n",
      "Epoch 4/20\n",
      "12/12 - 0s - loss: 0.6956 - accuracy: 0.9083 - val_loss: 1.1675 - val_accuracy: 0.2667 - 48ms/epoch - 4ms/step\n",
      "Epoch 5/20\n",
      "12/12 - 0s - loss: 0.6677 - accuracy: 0.9250 - val_loss: 1.1892 - val_accuracy: 0.2667 - 53ms/epoch - 4ms/step\n",
      "Epoch 6/20\n",
      "12/12 - 0s - loss: 0.6405 - accuracy: 0.9333 - val_loss: 1.1930 - val_accuracy: 0.2667 - 55ms/epoch - 5ms/step\n",
      "Epoch 7/20\n",
      "12/12 - 0s - loss: 0.6147 - accuracy: 0.9500 - val_loss: 1.2245 - val_accuracy: 0.2667 - 76ms/epoch - 6ms/step\n",
      "Epoch 8/20\n",
      "12/12 - 0s - loss: 0.5852 - accuracy: 0.9333 - val_loss: 1.2697 - val_accuracy: 0.2667 - 95ms/epoch - 8ms/step\n",
      "Epoch 9/20\n",
      "12/12 - 0s - loss: 0.5594 - accuracy: 0.9333 - val_loss: 1.2887 - val_accuracy: 0.2667 - 63ms/epoch - 5ms/step\n",
      "Epoch 10/20\n",
      "12/12 - 0s - loss: 0.5361 - accuracy: 0.9417 - val_loss: 1.3008 - val_accuracy: 0.2667 - 73ms/epoch - 6ms/step\n",
      "Epoch 11/20\n",
      "12/12 - 0s - loss: 0.5077 - accuracy: 0.9500 - val_loss: 1.3399 - val_accuracy: 0.2667 - 62ms/epoch - 5ms/step\n",
      "Epoch 12/20\n",
      "12/12 - 0s - loss: 0.4874 - accuracy: 0.9500 - val_loss: 1.3816 - val_accuracy: 0.2667 - 60ms/epoch - 5ms/step\n",
      "Epoch 13/20\n",
      "12/12 - 0s - loss: 0.4600 - accuracy: 0.9500 - val_loss: 1.3995 - val_accuracy: 0.2667 - 51ms/epoch - 4ms/step\n",
      "Epoch 14/20\n",
      "12/12 - 0s - loss: 0.4388 - accuracy: 0.9583 - val_loss: 1.4351 - val_accuracy: 0.2667 - 66ms/epoch - 6ms/step\n",
      "Epoch 15/20\n",
      "12/12 - 0s - loss: 0.4173 - accuracy: 0.9583 - val_loss: 1.4793 - val_accuracy: 0.2667 - 51ms/epoch - 4ms/step\n",
      "Epoch 16/20\n",
      "12/12 - 0s - loss: 0.3974 - accuracy: 0.9500 - val_loss: 1.5290 - val_accuracy: 0.2667 - 61ms/epoch - 5ms/step\n",
      "Epoch 17/20\n",
      "12/12 - 0s - loss: 0.3786 - accuracy: 0.9500 - val_loss: 1.5592 - val_accuracy: 0.3000 - 85ms/epoch - 7ms/step\n",
      "Epoch 18/20\n",
      "12/12 - 0s - loss: 0.3604 - accuracy: 0.9583 - val_loss: 1.6038 - val_accuracy: 0.3000 - 56ms/epoch - 5ms/step\n",
      "Epoch 19/20\n",
      "12/12 - 0s - loss: 0.3441 - accuracy: 0.9583 - val_loss: 1.6505 - val_accuracy: 0.2667 - 73ms/epoch - 6ms/step\n",
      "Epoch 20/20\n",
      "12/12 - 0s - loss: 0.3324 - accuracy: 0.9500 - val_loss: 1.6915 - val_accuracy: 0.3000 - 59ms/epoch - 5ms/step\n"
     ]
    },
    {
     "data": {
      "text/plain": [
       "<keras.callbacks.History at 0x7f8c2c7a5880>"
      ]
     },
     "execution_count": 59,
     "metadata": {},
     "output_type": "execute_result"
    }
   ],
   "source": [
    "model.fit(train, labels, \n",
    "          validation_split = 0.2, batch_size = 10, \n",
    "          epochs = 20, shuffle = True, verbose = 2)"
   ]
  },
  {
   "cell_type": "markdown",
   "metadata": {},
   "source": [
    "When adding validation set, we will also get preformance metrics for validation data"
   ]
  },
  {
   "cell_type": "markdown",
   "metadata": {},
   "source": [
    "The validation set can also be created explicitly using validation_data parameter.\n",
    "For example:"
   ]
  },
  {
   "cell_type": "code",
   "execution_count": 60,
   "metadata": {},
   "outputs": [
    {
     "name": "stdout",
     "output_type": "stream",
     "text": [
      "Epoch 1/20\n",
      "13/13 - 0s - loss: 0.3211 - accuracy: 0.9462 - val_loss: 2.4470 - val_accuracy: 0.0000e+00 - 91ms/epoch - 7ms/step\n",
      "Epoch 2/20\n",
      "13/13 - 0s - loss: 0.3041 - accuracy: 0.9615 - val_loss: 2.5064 - val_accuracy: 0.0000e+00 - 48ms/epoch - 4ms/step\n",
      "Epoch 3/20\n",
      "13/13 - 0s - loss: 0.2898 - accuracy: 0.9615 - val_loss: 2.5903 - val_accuracy: 0.0000e+00 - 50ms/epoch - 4ms/step\n",
      "Epoch 4/20\n",
      "13/13 - 0s - loss: 0.2781 - accuracy: 0.9538 - val_loss: 2.6876 - val_accuracy: 0.0000e+00 - 76ms/epoch - 6ms/step\n",
      "Epoch 5/20\n",
      "13/13 - 0s - loss: 0.2666 - accuracy: 0.9615 - val_loss: 2.7505 - val_accuracy: 0.0000e+00 - 110ms/epoch - 8ms/step\n",
      "Epoch 6/20\n",
      "13/13 - 0s - loss: 0.2550 - accuracy: 0.9538 - val_loss: 2.8483 - val_accuracy: 0.0000e+00 - 69ms/epoch - 5ms/step\n",
      "Epoch 7/20\n",
      "13/13 - 0s - loss: 0.2463 - accuracy: 0.9615 - val_loss: 2.9242 - val_accuracy: 0.0000e+00 - 58ms/epoch - 4ms/step\n",
      "Epoch 8/20\n",
      "13/13 - 0s - loss: 0.2356 - accuracy: 0.9538 - val_loss: 3.0022 - val_accuracy: 0.0000e+00 - 54ms/epoch - 4ms/step\n",
      "Epoch 9/20\n",
      "13/13 - 0s - loss: 0.2351 - accuracy: 0.9462 - val_loss: 3.0962 - val_accuracy: 0.0000e+00 - 66ms/epoch - 5ms/step\n",
      "Epoch 10/20\n",
      "13/13 - 0s - loss: 0.2178 - accuracy: 0.9538 - val_loss: 3.1164 - val_accuracy: 0.0000e+00 - 67ms/epoch - 5ms/step\n",
      "Epoch 11/20\n",
      "13/13 - 0s - loss: 0.2168 - accuracy: 0.9615 - val_loss: 3.1777 - val_accuracy: 0.0000e+00 - 54ms/epoch - 4ms/step\n",
      "Epoch 12/20\n",
      "13/13 - 0s - loss: 0.2127 - accuracy: 0.9385 - val_loss: 3.3041 - val_accuracy: 0.0000e+00 - 60ms/epoch - 5ms/step\n",
      "Epoch 13/20\n",
      "13/13 - 0s - loss: 0.2018 - accuracy: 0.9615 - val_loss: 3.3007 - val_accuracy: 0.0000e+00 - 48ms/epoch - 4ms/step\n",
      "Epoch 14/20\n",
      "13/13 - 0s - loss: 0.1989 - accuracy: 0.9615 - val_loss: 3.4016 - val_accuracy: 0.0000e+00 - 66ms/epoch - 5ms/step\n",
      "Epoch 15/20\n",
      "13/13 - 0s - loss: 0.1915 - accuracy: 0.9615 - val_loss: 3.4273 - val_accuracy: 0.0000e+00 - 94ms/epoch - 7ms/step\n",
      "Epoch 16/20\n",
      "13/13 - 0s - loss: 0.1854 - accuracy: 0.9615 - val_loss: 3.5055 - val_accuracy: 0.0000e+00 - 55ms/epoch - 4ms/step\n",
      "Epoch 17/20\n",
      "13/13 - 0s - loss: 0.1845 - accuracy: 0.9538 - val_loss: 3.5863 - val_accuracy: 0.0000e+00 - 70ms/epoch - 5ms/step\n",
      "Epoch 18/20\n",
      "13/13 - 0s - loss: 0.1764 - accuracy: 0.9538 - val_loss: 3.5897 - val_accuracy: 0.0000e+00 - 51ms/epoch - 4ms/step\n",
      "Epoch 19/20\n",
      "13/13 - 0s - loss: 0.1740 - accuracy: 0.9615 - val_loss: 3.6300 - val_accuracy: 0.0000e+00 - 74ms/epoch - 6ms/step\n",
      "Epoch 20/20\n",
      "13/13 - 0s - loss: 0.1691 - accuracy: 0.9615 - val_loss: 3.7270 - val_accuracy: 0.0000e+00 - 64ms/epoch - 5ms/step\n"
     ]
    },
    {
     "data": {
      "text/plain": [
       "<keras.callbacks.History at 0x7f8c0d75fa90>"
      ]
     },
     "execution_count": 60,
     "metadata": {},
     "output_type": "execute_result"
    }
   ],
   "source": [
    "valid_set = train[130:]\n",
    "valid_set_labels = labels[130:]\n",
    "train2 = train[:130]\n",
    "labels2 = labels[:130]\n",
    "model.fit(train2, labels2,\n",
    "          validation_data = (valid_set, valid_set_labels), batch_size = 10, \n",
    "          epochs = 20, shuffle = True, verbose = 2)"
   ]
  },
  {
   "cell_type": "markdown",
   "metadata": {},
   "source": [
    "The test set would be structured the same way the training set is but without the labels. We will be using that set when we cann the predict function on our model. \n",
    "\n",
    "We need to make sure our training and validation sets are a good representitive of actual data. \n",
    "\n",
    "To predict with keras:"
   ]
  },
  {
   "cell_type": "code",
   "execution_count": null,
   "metadata": {},
   "outputs": [],
   "source": [
    "predictions = model.predict(scaled_test_samples, \n",
    "                            batch_size = 10, verbose = 0)\n",
    "# First is the variable holding the test data"
   ]
  },
  {
   "cell_type": "markdown",
   "metadata": {},
   "source": [
    "To know that the model is overfitting: \n",
    "- If the validation metrics are considerably worse than the training metrics than that's an indication of overfitting\n",
    "- The metrics are good during training but accuracy is low on test data\n",
    "\n",
    "Some ways to aviod overfitting:\n",
    "- Add more data. The more data, higher diversity\n",
    "- Data augmentation\n",
    "- Reduce complexity of the model. This can be done by making simple changes such as removing layers from the model or reducing the number of neurons in the layers.\n",
    "- Dropout"
   ]
  }
 ],
 "metadata": {
  "kernelspec": {
   "display_name": "Python 3",
   "language": "python",
   "name": "python3"
  },
  "language_info": {
   "codemirror_mode": {
    "name": "ipython",
    "version": 3
   },
   "file_extension": ".py",
   "mimetype": "text/x-python",
   "name": "python",
   "nbconvert_exporter": "python",
   "pygments_lexer": "ipython3",
   "version": "3.8.5"
  }
 },
 "nbformat": 4,
 "nbformat_minor": 4
}
